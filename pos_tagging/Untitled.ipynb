{
 "cells": [
  {
   "cell_type": "code",
   "execution_count": 11,
   "metadata": {},
   "outputs": [],
   "source": [
    "!pip install allennlp==0.9.0"
   ]
  },
  {
   "cell_type": "code",
   "execution_count": null,
   "metadata": {},
   "outputs": [],
   "source": [
    "!wget 'data/ud-treebanks-v2.3/UD_English-EWT/en_ewt-ud-train.conllu'\n",
    "!mv en_ewt-ud-train.conllu data/en_ewt-ud-train.conllu\n",
    "!wget 'data/ud-treebanks-v2.3/UD_English-EWT/en_ewt-ud-dev.conllu'\n",
    "!mv en_ewt-ud-dev.conllu data/en_ewt-ud-dev.conllu\n",
    "!wget 'data/ud-treebanks-v2.3/UD_English-EWT/en_ewt-ud-test.conllu'\n",
    "!mv en_ewt-ud-test.conllu data/en_ewt-ud-test.conllu"
   ]
  },
  {
   "cell_type": "code",
   "execution_count": 16,
   "metadata": {},
   "outputs": [],
   "source": [
    "for file in [\"train\", \"dev\", \"test\"]:\n",
    "    with open(f'data/en_ewt-ud-{file}.conllu') as f:\n",
    "        data = f.readlines()\n",
    "    outlines = []\n",
    "    for line in data:\n",
    "        if line[0] == '#':\n",
    "            continue\n",
    "        if line[0] == '\\n':\n",
    "            outlines.append(line)\n",
    "        else:\n",
    "            arr = line.split('\\t')\n",
    "            outlines.append(f\"{arr[1]}\\t{arr[3]}\\tNone\\tNone\\n\")\n",
    "    with open(f'data/{file}.pos', 'w') as f:\n",
    "        f.writelines(outlines)"
   ]
  },
  {
   "cell_type": "code",
   "execution_count": 14,
   "metadata": {},
   "outputs": [],
   "source": [
    "!allennlp train -s log simple_tagger_pos.json"
   ]
  },
  {
   "cell_type": "code",
   "execution_count": null,
   "metadata": {},
   "outputs": [],
   "source": []
  },
  {
   "cell_type": "code",
   "execution_count": null,
   "metadata": {},
   "outputs": [],
   "source": []
  }
 ],
 "metadata": {
  "kernelspec": {
   "display_name": "Python (nlp)",
   "language": "python",
   "name": "ex"
  },
  "language_info": {
   "codemirror_mode": {
    "name": "ipython",
    "version": 3
   },
   "file_extension": ".py",
   "mimetype": "text/x-python",
   "name": "python",
   "nbconvert_exporter": "python",
   "pygments_lexer": "ipython3",
   "version": "3.7.1"
  }
 },
 "nbformat": 4,
 "nbformat_minor": 4
}
